{
 "cells": [
  {
   "attachments": {},
   "cell_type": "markdown",
   "metadata": {},
   "source": [
    "# 8. Derivace funkce jedné proměnné"
   ]
  },
  {
   "cell_type": "code",
   "execution_count": 2,
   "metadata": {},
   "outputs": [
    {
     "name": "stdout",
     "output_type": "stream",
     "text": [
      "Analytická derivace: 3.0\n",
      "Numerická derivace s adaptabilním krokem: 3.0000000000000027\n",
      "Numerická derivace s pevným krokem: 3.0000000000000036\n"
     ]
    }
   ],
   "source": [
    "import math\n",
    "\n",
    "# Derivace s adabtabilním krokem\n",
    "def adaptive_derivative(f, x, tol=1e-5):\n",
    "    h = 0.1\n",
    "    delta = 1\n",
    "    while delta > tol:\n",
    "        h /= 2\n",
    "        xph = x + h\n",
    "        xmh = x - h\n",
    "        num_deriv = (f(xph) - f(xmh)) / (2*h)\n",
    "        h /= 2\n",
    "        xph = x + h\n",
    "        xmh = x - h\n",
    "        num_deriv2 = (f(xph) - f(xmh)) / (2*h)\n",
    "        delta = abs(num_deriv - num_deriv2)\n",
    "    return num_deriv\n",
    "\n",
    "# Derivace s pevným krokem\n",
    "def fixed_derivative(f, x, h=0.1):\n",
    "    xph = x + h\n",
    "    xmh = x - h\n",
    "    num_deriv = (f(xph) - f(xmh)) / (2*h)\n",
    "    return num_deriv\n",
    "\n",
    "def f(x):\n",
    "    return x**2\n",
    "\n",
    "def f_deriv(x):\n",
    "    return 2*x\n",
    "\n",
    "x = 1.5\n",
    "h = 0.1\n",
    "\n",
    "print(\"Analytická derivace:\", f_deriv(x))\n",
    "\n",
    "print(\"Numerická derivace s adaptabilním krokem:\", adaptive_derivative(f, x))\n",
    "\n",
    "print(\"Numerická derivace s pevným krokem:\", fixed_derivative(f, x, h))"
   ]
  }
 ],
 "metadata": {
  "kernelspec": {
   "display_name": "Python 3",
   "language": "python",
   "name": "python3"
  },
  "language_info": {
   "codemirror_mode": {
    "name": "ipython",
    "version": 3
   },
   "file_extension": ".py",
   "mimetype": "text/x-python",
   "name": "python",
   "nbconvert_exporter": "python",
   "pygments_lexer": "ipython3",
   "version": "3.10.6"
  },
  "orig_nbformat": 4
 },
 "nbformat": 4,
 "nbformat_minor": 2
}
