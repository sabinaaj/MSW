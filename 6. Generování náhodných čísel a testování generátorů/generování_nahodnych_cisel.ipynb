{
 "cells": [
  {
   "attachments": {},
   "cell_type": "markdown",
   "metadata": {},
   "source": [
    "# 6. Generování náhodných čísel a testování generátorů"
   ]
  },
  {
   "cell_type": "code",
   "execution_count": 1,
   "metadata": {},
   "outputs": [
    {
     "name": "stdout",
     "output_type": "stream",
     "text": [
      "61, 78, 44, 44, 98, 98, 39, 62, 47, 63, 55, 73, 25, 5, 5, 21, 14, 3, 47, 54, 47, 46, 15, 22, 62, 9, 99, 99, 62, 98, 70, 6, 8, 15, 1, 79, 75, 98, 35, 6, 45, 58, 93, 13, 31, 49, 80, 54, 19, 8, 25, 46, 6, 73, 76, 36, 45, 41, 50, 7, 85, 45, 16, 34, 99, 35, 32, 41, 43, 31, 78, 21, 89, 51, 90, 51, 78, 30, 69, 15, 84, 2, 53, 13, 53, 39, 23, 27, 40, 66, 22, 100, 61, 61, 76, 80, 63, 40, 86, 63, "
     ]
    }
   ],
   "source": [
    "from PIL import Image\n",
    "import random\n",
    "\n",
    "# otevření obrázku\n",
    "image = Image.open(\"cats.jpg\")\n",
    "\n",
    "# konverze obrázku do RGB formátu\n",
    "image_rgb = image.convert(\"RGB\")\n",
    "\n",
    "# získání rozměrů obrázku\n",
    "width, height = image.size\n",
    "\n",
    "# procházení všech pixelů a generování náhodného semínka na základě jejich barev\n",
    "seeds = []\n",
    "for y in range(height):\n",
    "    for x in range(width):\n",
    "        r, g, b = image_rgb.getpixel((x, y))\n",
    "        seed = r * g + b**2 \n",
    "        seeds.append(seed)\n",
    "\n",
    "# nastavení generátoru náhodných čísel na základě vygenerovaných semínek a vypsání náhodných čísel\n",
    "for i in range(100):\n",
    "    random.seed(seeds[i])\n",
    "    print(random.randint(1, 100), end=\", \")\n",
    "\n",
    "    "
   ]
  }
 ],
 "metadata": {
  "kernelspec": {
   "display_name": "Python 3",
   "language": "python",
   "name": "python3"
  },
  "language_info": {
   "codemirror_mode": {
    "name": "ipython",
    "version": 3
   },
   "file_extension": ".py",
   "mimetype": "text/x-python",
   "name": "python",
   "nbconvert_exporter": "python",
   "pygments_lexer": "ipython3",
   "version": "3.10.7"
  },
  "orig_nbformat": 4
 },
 "nbformat": 4,
 "nbformat_minor": 2
}
