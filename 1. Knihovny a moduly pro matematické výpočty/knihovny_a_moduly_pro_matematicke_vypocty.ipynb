{
 "cells": [
  {
   "attachments": {},
   "cell_type": "markdown",
   "metadata": {},
   "source": [
    "# 1. Knihovny a moduly pro matematické výpočty\n",
    "\n",
    "### 1. úloha: Skalární součin dvou vektorů"
   ]
  },
  {
   "cell_type": "code",
   "execution_count": 37,
   "metadata": {},
   "outputs": [
    {
     "name": "stdout",
     "output_type": "stream",
     "text": [
      "Skalární součin (Python):  0.05787467956542969\n",
      "Skalární součin (NumPy):   0.0008852481842041016\n"
     ]
    }
   ],
   "source": [
    "import time\n",
    "import random\n",
    "import numpy as np\n",
    "\n",
    "# počet čísel\n",
    "n = 1000000\n",
    "\n",
    "# čistý python\n",
    "a = [random.random() for i in range(n)]\n",
    "b = [random.random() for i in range(n)]\n",
    "\n",
    "start = time.time()\n",
    "\n",
    "dot_product = sum([a[i] * b[i] for i in range(n)])\n",
    "\n",
    "end = time.time()\n",
    "\n",
    "print(\"Skalární součin (Python): \", end - start)\n",
    "\n",
    "# numPy\n",
    "a = np.array([random.random() for i in range(n)])\n",
    "b = np.array([random.random() for i in range(n)])\n",
    "\n",
    "start = time.time()\n",
    "\n",
    "dot_product = np.dot(a, b)\n",
    "\n",
    "end = time.time()\n",
    "\n",
    "print(\"Skalární součin (NumPy):  \", end - start)\n",
    "\n"
   ]
  },
  {
   "attachments": {},
   "cell_type": "markdown",
   "metadata": {},
   "source": [
    "### 2. úloha: Výpočet faktoriálu"
   ]
  },
  {
   "cell_type": "code",
   "execution_count": 44,
   "metadata": {},
   "outputs": [
    {
     "name": "stdout",
     "output_type": "stream",
     "text": [
      "Výpočet faktoriálu (Python):  0.016252756118774414\n",
      "Výpočet faktoriálu (SymPy):   4.482269287109375e-05\n"
     ]
    }
   ],
   "source": [
    "import time\n",
    "import sympy\n",
    "\n",
    "# počet čísel\n",
    "n = 10000\n",
    "\n",
    "# čistý python\n",
    "start = time.time()\n",
    "\n",
    "factorial = 1\n",
    "for i in range(1, n+1):\n",
    "    factorial *= i\n",
    "\n",
    "end = time.time()\n",
    "\n",
    "print(\"Výpočet faktoriálu (Python): \", end - start)\n",
    "\n",
    "# symPy\n",
    "start = time.time()\n",
    "\n",
    "result = sympy.factorial(n)\n",
    "\n",
    "end = time.time()\n",
    "\n",
    "print(\"Výpočet faktoriálu (SymPy):  \", end - start)"
   ]
  },
  {
   "attachments": {},
   "cell_type": "markdown",
   "metadata": {},
   "source": [
    "### 3. úloha: Násobení matic"
   ]
  },
  {
   "cell_type": "code",
   "execution_count": 4,
   "metadata": {},
   "outputs": [
    {
     "name": "stdout",
     "output_type": "stream",
     "text": [
      "Násobení matic (Python):  6.4849853515625e-05\n",
      "Násobení matic (NumPy):   3.409385681152344e-05\n"
     ]
    }
   ],
   "source": [
    "import time\n",
    "import numpy as np\n",
    "\n",
    "# čistý python\n",
    "A = [[1, 2, 3], [4, 5, 6], [7, 8, 9]]\n",
    "B = [[10, 11, 12], [13, 14, 15], [16, 17, 18]]\n",
    "C = [[0, 0, 0], [0, 0, 0], [0, 0, 0]]\n",
    "\n",
    "start = time.time()\n",
    "\n",
    "for i in range(len(A)):\n",
    "    for j in range(len(B[0])):\n",
    "        for k in range(len(B)):\n",
    "            C[i][j] += A[i][k] * B[k][j]\n",
    "\n",
    "end = time.time()\n",
    "\n",
    "print(\"Násobení matic (Python): \", end - start)\n",
    "\n",
    "# numPy\n",
    "A = np.array([[1, 2, 3], [4, 5, 6], [7, 8, 9]])\n",
    "B = np.array([[10, 11, 12], [13, 14, 15], [16, 17, 18]])\n",
    "\n",
    "start = time.time()\n",
    "\n",
    "C = np.dot(A, B)\n",
    "\n",
    "end = time.time()\n",
    "\n",
    "print(\"Násobení matic (NumPy):  \", end - start)"
   ]
  },
  {
   "attachments": {},
   "cell_type": "markdown",
   "metadata": {},
   "source": [
    "### 4. úloha: Aritmetický průměr"
   ]
  },
  {
   "cell_type": "code",
   "execution_count": 6,
   "metadata": {},
   "outputs": [
    {
     "name": "stdout",
     "output_type": "stream",
     "text": [
      "Aritmetický průměr (Python):  0.003114461898803711\n",
      "Aritmetický průměr (NumPy):   0.0006120204925537109\n"
     ]
    }
   ],
   "source": [
    "import time\n",
    "import random\n",
    "import numpy as np\n",
    "\n",
    "# počet čísel\n",
    "n = 1000000\n",
    "\n",
    "# čistý python\n",
    "data = [random.random() for i in range(n)]\n",
    "\n",
    "start = time.time()\n",
    "\n",
    "mean = sum(data) / len(data)\n",
    "\n",
    "end = time.time()\n",
    "\n",
    "print(\"Aritmetický průměr (Python): \", end - start)\n",
    "\n",
    "# numPy\n",
    "data = np.array([random.random() for i in range(n)])\n",
    "\n",
    "start = time.time()\n",
    "\n",
    "mean = np.mean(data)\n",
    "\n",
    "end = time.time()\n",
    "\n",
    "print(\"Aritmetický průměr (NumPy):  \", end - start)"
   ]
  },
  {
   "attachments": {},
   "cell_type": "markdown",
   "metadata": {},
   "source": [
    "### 5. úloha: Výpočet sin(x)"
   ]
  },
  {
   "cell_type": "code",
   "execution_count": 50,
   "metadata": {},
   "outputs": [
    {
     "name": "stdout",
     "output_type": "stream",
     "text": [
      "Výpočet sin(x) (Python):  5.173683166503906e-05\n",
      "Výpočet sin(x) (NumPy):   0.0001895427703857422\n",
      "Výpočet sin(x) (Sympy):   0.05016517639160156\n"
     ]
    }
   ],
   "source": [
    "import time\n",
    "import math\n",
    "import numpy as np\n",
    "import sympy\n",
    "\n",
    "data = [num / 100 for num in range(-100, 100, 1)]\n",
    "\n",
    "# python\n",
    "start = time.time()\n",
    "\n",
    "for num in data:\n",
    "    math.sin(num)\n",
    "\n",
    "end = time.time()\n",
    "\n",
    "print(\"Výpočet sin(x) (Python): \", end - start)\n",
    "\n",
    "# numPy\n",
    "start = time.time()\n",
    "\n",
    "for num in data:\n",
    "    np.sin(num)\n",
    "\n",
    "end = time.time()\n",
    "\n",
    "print(\"Výpočet sin(x) (NumPy):  \", end - start)\n",
    "\n",
    "# symPy\n",
    "start = time.time()\n",
    "\n",
    "for num in data:\n",
    "    sympy.sin(num)\n",
    "\n",
    "end = time.time()\n",
    "\n",
    "print(\"Výpočet sin(x) (Sympy):  \", end - start)"
   ]
  }
 ],
 "metadata": {
  "kernelspec": {
   "display_name": "Python 3",
   "language": "python",
   "name": "python3"
  },
  "language_info": {
   "codemirror_mode": {
    "name": "ipython",
    "version": 3
   },
   "file_extension": ".py",
   "mimetype": "text/x-python",
   "name": "python",
   "nbconvert_exporter": "python",
   "pygments_lexer": "ipython3",
   "version": "3.10.7"
  },
  "orig_nbformat": 4
 },
 "nbformat": 4,
 "nbformat_minor": 2
}
