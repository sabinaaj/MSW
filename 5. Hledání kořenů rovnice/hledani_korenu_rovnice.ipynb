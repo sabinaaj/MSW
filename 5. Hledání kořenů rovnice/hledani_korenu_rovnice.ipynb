{
 "cells": [
  {
   "attachments": {},
   "cell_type": "markdown",
   "metadata": {},
   "source": [
    "# 5. hledání kořenů rovnice"
   ]
  },
  {
   "cell_type": "code",
   "execution_count": 3,
   "metadata": {},
   "outputs": [
    {
     "name": "stdout",
     "output_type": "stream",
     "text": [
      "Funkce f(x) = x^3 - x^2 + 2\n",
      "Kořen nalezený pomocí ohraničené metody půlení intervalu:  -0.9999996423721313 čas: 2.5272369384765625e-05\n",
      "Kořen nalezený pomocí neohraničené Newtonovy metody:  -1.0000001060063834 čas: 0.00030875205993652344\n",
      "\n",
      "\n",
      "Funkce g(x) = 2^x - 3x\n",
      "Kořen nalezený pomocí ohraničené metody půlení intervalu:  0.4578218460083008 čas: 1.6450881958007812e-05\n",
      "Kořen nalezený pomocí neohraničené Newtonovy metody:  0.45782237819382277 čas: 9.918212890625e-05\n",
      "\n",
      "\n",
      "Funkce h(x) = 5 - x^3\n",
      "Kořen nalezený pomocí ohraničené metody půlení intervalu:  1.7099754810333252 čas: 1.4543533325195312e-05\n",
      "Kořen nalezený pomocí neohraničené Newtonovy metody:  1.7099760334327845 čas: 0.000125885009765625\n"
     ]
    },
    {
     "name": "stderr",
     "output_type": "stream",
     "text": [
      "/tmp/ipykernel_18800/998783176.py:36: DeprecationWarning: scipy.misc.derivative is deprecated in SciPy v1.10.0; and will be completely removed in SciPy v1.12.0. You may consider using findiff: https://github.com/maroba/findiff or numdifftools: https://github.com/pbrod/numdifftools\n",
      "  x1 = x0 - f(x0)/derivative(f, x0)\n",
      "/tmp/ipykernel_18800/998783176.py:39: DeprecationWarning: scipy.misc.derivative is deprecated in SciPy v1.10.0; and will be completely removed in SciPy v1.12.0. You may consider using findiff: https://github.com/maroba/findiff or numdifftools: https://github.com/pbrod/numdifftools\n",
      "  x1 = x0 - f(x0)/derivative(f, x0)\n"
     ]
    }
   ],
   "source": [
    "import math\n",
    "import time\n",
    "from scipy.misc import derivative\n",
    "\n",
    "# Funkce f(x) = x^3 - 2x^2 + x + 2\n",
    "def f(x):\n",
    "    return x**3 - x**2 + 2\n",
    "\n",
    "# Funkce g(x) = e^x - 3*x\n",
    "def g(x):\n",
    "    return 2**x - 3*x\n",
    "\n",
    "# Funkce h(x) = 5 - x^3\n",
    "def h(x):\n",
    "    return 5 - x**3\n",
    "\n",
    "# Implementace ohraničené metody půlení intervalu\n",
    "def bisection(f, a, b, tol):\n",
    "    start_time = time.time()\n",
    "    c = (a+b)/2\n",
    "    while (b-a)/2 > tol:\n",
    "        if f(c) == 0:\n",
    "            end_time = time.time()\n",
    "            return c, end_time - start_time\n",
    "        elif f(a)*f(c) < 0:\n",
    "            b = c\n",
    "        else:\n",
    "            a = c\n",
    "        c = (a+b)/2\n",
    "    end_time = time.time()\n",
    "    return c, end_time - start_time\n",
    "\n",
    "# Implementace neohraničené Newtonovy metody\n",
    "def newton(f, x0, tol):\n",
    "    start_time = time.time()\n",
    "    x1 = x0 - f(x0)/derivative(f, x0)\n",
    "    while abs(x1 - x0) > tol:\n",
    "        x0 = x1\n",
    "        x1 = x0 - f(x0)/derivative(f, x0)\n",
    "    end_time = time.time()\n",
    "    return x1, end_time - start_time\n",
    "\n",
    "# Nalezení kořenů pomocí ohraničené metody půlení intervalu a neohraničené Newtonovy metody\n",
    "root1_bisect, time1_bisect = bisection(f, -5, 5, 1e-6)\n",
    "root1_newton, time1_newton = newton(f, 1, 1e-6)\n",
    "\n",
    "root2_bisect, time2_bisect = bisection(g, 0, 2, 1e-6)\n",
    "root2_newton, time2_newton = newton(g, 1, 1e-6)\n",
    "\n",
    "root3_bisect, time3_bisect = bisection(h, -3, 3, 1e-6)\n",
    "root3_newton, time3_newton = newton(h, 1, 1e-6)\n",
    "\n",
    "print(\"Funkce f(x) = x^3 - x^2 + 2\")\n",
    "print(\"Kořen nalezený pomocí ohraničené metody půlení intervalu: \", root1_bisect, \"čas:\", time1_bisect)\n",
    "print(\"Kořen nalezený pomocí neohraničené Newtonovy metody: \", root1_newton, \"čas:\", time1_newton)\n",
    "print(\"\\n\")\n",
    "print(\"Funkce g(x) = 2^x - 3x\")\n",
    "print(\"Kořen nalezený pomocí ohraničené metody půlení intervalu: \", root2_bisect, \"čas:\", time2_bisect)\n",
    "print(\"Kořen nalezený pomocí neohraničené Newtonovy metody: \", root2_newton, \"čas:\", time2_newton)\n",
    "print(\"\\n\")\n",
    "print(\"Funkce h(x) = 5 - x^3\")\n",
    "print(\"Kořen nalezený pomocí ohraničené metody půlení intervalu: \", root3_bisect, \"čas:\", time3_bisect)\n",
    "print(\"Kořen nalezený pomocí neohraničené Newtonovy metody: \", root3_newton, \"čas:\", time3_newton)\n"
   ]
  }
 ],
 "metadata": {
  "kernelspec": {
   "display_name": "Python 3",
   "language": "python",
   "name": "python3"
  },
  "language_info": {
   "codemirror_mode": {
    "name": "ipython",
    "version": 3
   },
   "file_extension": ".py",
   "mimetype": "text/x-python",
   "name": "python",
   "nbconvert_exporter": "python",
   "pygments_lexer": "ipython3",
   "version": "3.10.7"
  },
  "orig_nbformat": 4
 },
 "nbformat": 4,
 "nbformat_minor": 2
}
